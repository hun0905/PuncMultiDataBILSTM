{
 "cells": [
  {
   "cell_type": "code",
   "execution_count": 1,
   "metadata": {},
   "outputs": [],
   "source": [
    "file = open('/home/yunghuan/Desktop/NLP_dataset_high/formosa_processed/test.csv','r').readlines()\n",
    "out_file = open('demo_no_punc.csv','w+')\n",
    "sen = []\n",
    "for i in file:\n",
    "    seq = i.split()\n",
    "    for s in seq:\n",
    "        if s not in ['，','。','？']:\n",
    "            sen.append(s)\n",
    "    out_file.write(' '.join(sen))\n",
    "    out_file.write('\\n')\n",
    "    sen.clear()\n"
   ]
  }
 ],
 "metadata": {
  "interpreter": {
   "hash": "4721f9f90a043d92980dd1afa43594e599d70ba0a83e7f896b6179dbac8637e7"
  },
  "kernelspec": {
   "display_name": "Python 3.8.11 64-bit ('train': conda)",
   "language": "python",
   "name": "python3"
  },
  "language_info": {
   "codemirror_mode": {
    "name": "ipython",
    "version": 3
   },
   "file_extension": ".py",
   "mimetype": "text/x-python",
   "name": "python",
   "nbconvert_exporter": "python",
   "pygments_lexer": "ipython3",
   "version": "3.8.11"
  },
  "orig_nbformat": 4
 },
 "nbformat": 4,
 "nbformat_minor": 2
}
