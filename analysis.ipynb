{
 "cells": [
  {
   "cell_type": "code",
   "execution_count": null,
   "metadata": {},
   "outputs": [],
   "source": [
    "from nltk.probability import FreqDist\n",
    "path = '/home/yunghuan/NLP_Dataset/Chinese/data_Ch/train.txt'\n",
    "file = open(path,'r').read().split()\n",
    "fdist = FreqDist(file)\n",
    "total = fdist['，']+fdist['。']+fdist['？']\n",
    "print(fdist['，'])\n",
    "print(fdist['。'])\n",
    "print(fdist['？'])\n",
    "print(fdist['，']/total)\n",
    "print(fdist['。']/total)\n",
    "print(fdist['？']/total)"
   ]
  },
  {
   "cell_type": "code",
   "execution_count": 5,
   "metadata": {},
   "outputs": [
    {
     "name": "stdout",
     "output_type": "stream",
     "text": [
      "0.11194847695548958\n"
     ]
    }
   ],
   "source": [
    "from torch.utils.data import dataset\n",
    "from dataset import PuncDataset\n",
    "import torch\n",
    "from sklearn.metrics import accuracy_score\n",
    "from sklearn.metrics import precision_recall_fscore_support as score\n",
    "from model1 import Seq2Seq\n",
    "from model2 import bi_GRU\n",
    "import numpy as np\n",
    "from torchviz import make_dot\n",
    "data_path = '/home/yunghuan/Desktop/NLP_dataset_high/formosa_processed/test.csv'\n",
    "vocab_path = '/home/yunghuan/NLP_Dataset/Chinese/data_Ch/vocab.txt'\n",
    "punc_path = '/home/yunghuan/NLP_Dataset/Chinese/data_Ch/punc.txt'\n",
    "dataset = PuncDataset(data_path,vocab_path,punc_path)\n",
    "total_size = 0\n",
    "unk_total = 0\n",
    "for i, (word_id, label_id) in enumerate(dataset):\n",
    "    input_lengths = torch.LongTensor([len(word_id)])\n",
    "    input = word_id.unsqueeze(0)\n",
    "    unk = input.cpu().numpy()\n",
    "    total_size += np.size(unk)\n",
    "    unk_total += np.sum(unk==1)\n",
    "print(unk_total/total_size)"
   ]
  }
 ],
 "metadata": {
  "interpreter": {
   "hash": "4721f9f90a043d92980dd1afa43594e599d70ba0a83e7f896b6179dbac8637e7"
  },
  "kernelspec": {
   "display_name": "Python 3.8.11 64-bit ('train': conda)",
   "language": "python",
   "name": "python3"
  },
  "language_info": {
   "codemirror_mode": {
    "name": "ipython",
    "version": 3
   },
   "file_extension": ".py",
   "mimetype": "text/x-python",
   "name": "python",
   "nbconvert_exporter": "python",
   "pygments_lexer": "ipython3",
   "version": "3.8.11"
  },
  "orig_nbformat": 4
 },
 "nbformat": 4,
 "nbformat_minor": 2
}
